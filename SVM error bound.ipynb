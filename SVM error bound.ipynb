{
 "cells": [
  {
   "cell_type": "code",
   "execution_count": 1,
   "id": "aaa8d2b1",
   "metadata": {},
   "outputs": [],
   "source": [
    "from sklearn.datasets import make_regression, make_classification, make_blobs\n",
    "from sklearn.model_selection import train_test_split\n",
    "\n",
    "import pandas as pd\n",
    "import matplotlib.pyplot as plt\n",
    "import numpy as np\n",
    "from sklearn import linear_model\n",
    "from sklearn.model_selection import train_test_split"
   ]
  },
  {
   "cell_type": "code",
   "execution_count": 62,
   "id": "446ca292",
   "metadata": {},
   "outputs": [],
   "source": [
    "variables, target  = make_classification(\n",
    "                    n_samples = 100,\n",
    "                    n_features = 12,\n",
    "                    n_informative = 7,\n",
    "                    n_redundant = 3,\n",
    "                    n_repeated = 2,\n",
    "                    n_classes = 4,\n",
    "                    # Distribution of classes 20% Output1\n",
    "                    # 20%> output 2, 30% output 3 and 4        \n",
    "                    weights = [.2,.2, .3, .3],\n",
    "                    random_state = 32)"
   ]
  },
  {
   "cell_type": "code",
   "execution_count": 17,
   "id": "4ac00286",
   "metadata": {},
   "outputs": [],
   "source": [
    "df = pd.DataFrame(variables, \n",
    "columns=[\"col_name \"+ str(i) for i in range(variables.shape[1])])"
   ]
  },
  {
   "cell_type": "code",
   "execution_count": 21,
   "id": "8bf9767c",
   "metadata": {},
   "outputs": [],
   "source": [
    "df['target'] = pd.DataFrame(target)"
   ]
  },
  {
   "cell_type": "code",
   "execution_count": 37,
   "id": "4764ad1d",
   "metadata": {},
   "outputs": [],
   "source": [
    "# initial dimensionality, size stayed the same\n",
    "X1 = df[['col_name 0', 'col_name 1', 'col_name 2', 'col_name 3', 'col_name 4', 'col_name 5', 'col_name 6', 'col_name 7', 'col_name 8', 'col_name 9', 'col_name 10', 'col_name 11']]\n",
    "y1=df['target']\n",
    "    \n",
    "X1_train, X1_test, y1_train, y1_test = train_test_split(X1, y1, test_size=0.2, random_state=42)\n",
    "\n",
    "\n",
    "# initial dimensionality reduced to 9, size stayed the same\n",
    "X2 = df[['col_name 0', 'col_name 1', 'col_name 2', 'col_name 3', 'col_name 4', 'col_name 5', 'col_name 6', 'col_name 7', 'col_name 8', 'col_name 9']]\n",
    "y2=df['target']\n",
    "  \n",
    "X2_train, X2_test, y2_train, y2_test = train_test_split(X2, y2, test_size=0.2, random_state=42)\n",
    "\n",
    "\n",
    "# initial dimensionality reduced to 7, size stayed the same\n",
    "X3 = df[['col_name 0', 'col_name 1', 'col_name 2', 'col_name 3', 'col_name 4', 'col_name 5', 'col_name 6', 'col_name 7']]\n",
    "y3=df['target']\n",
    "\n",
    "X3_train, X3_test, y3_train, y3_test = train_test_split(X3, y3, test_size=0.2, random_state=42)\n"
   ]
  },
  {
   "cell_type": "code",
   "execution_count": 44,
   "id": "da1ae938",
   "metadata": {},
   "outputs": [],
   "source": [
    "df_05 = df.sample(frac=0.5)\n"
   ]
  },
  {
   "cell_type": "code",
   "execution_count": 46,
   "id": "c243c9f8",
   "metadata": {},
   "outputs": [],
   "source": [
    "# initial dimensionality, size stayed the same\n",
    "X1_05 = df_05[['col_name 0', 'col_name 1', 'col_name 2', 'col_name 3', 'col_name 4', 'col_name 5', 'col_name 6', 'col_name 7', 'col_name 8', 'col_name 9', 'col_name 10', 'col_name 11']]\n",
    "y1_05 = df_05['target']\n",
    "    \n",
    "X1_05_train, X1_05_test, y1_05_train, y1_05_test = train_test_split(X1_05, y1_05, test_size=0.2, random_state=42)\n",
    "\n",
    "\n",
    "# initial dimensionality reduced to 9, size stayed the same\n",
    "X2_05 = df[['col_name 0', 'col_name 1', 'col_name 2', 'col_name 3', 'col_name 4', 'col_name 5', 'col_name 6', 'col_name 7', 'col_name 8', 'col_name 9']]\n",
    "y2_05=df['target']\n",
    "  \n",
    "X2_05_train, X2_05_test, y2_05_train, y2_05_test = train_test_split(X2_05, y2_05, test_size=0.2, random_state=42)\n",
    "\n",
    "\n",
    "# initial dimensionality reduced to 7, size stayed the same\n",
    "X3_05 = df[['col_name 0', 'col_name 1', 'col_name 2', 'col_name 3', 'col_name 4', 'col_name 5', 'col_name 6', 'col_name 7']]\n",
    "y3_05=df['target']\n",
    "\n",
    "X3_05_train, X3_05_test, y3_05_train, y3_05_test = train_test_split(X3_05, y3_05, test_size=0.2, random_state=42)"
   ]
  },
  {
   "cell_type": "code",
   "execution_count": 56,
   "id": "cea2944d",
   "metadata": {},
   "outputs": [],
   "source": [
    "from sklearn.model_selection import learning_curve\n",
    "from sklearn.svm import SVC    \n",
    "train_sizes, train_scores, valid_scores = learning_curve(\n",
    "     SVC(kernel='linear'), X, y, train_sizes=[50, 79], cv=5)"
   ]
  },
  {
   "cell_type": "code",
   "execution_count": 53,
   "id": "08fd3dec",
   "metadata": {},
   "outputs": [
    {
     "ename": "NameError",
     "evalue": "name 'model' is not defined",
     "output_type": "error",
     "traceback": [
      "\u001b[1;31m---------------------------------------------------------------------------\u001b[0m",
      "\u001b[1;31mNameError\u001b[0m                                 Traceback (most recent call last)",
      "Input \u001b[1;32mIn [53]\u001b[0m, in \u001b[0;36m<cell line: 2>\u001b[1;34m()\u001b[0m\n\u001b[0;32m      1\u001b[0m \u001b[38;5;28;01mfrom\u001b[39;00m \u001b[38;5;21;01msklearn\u001b[39;00m\u001b[38;5;21;01m.\u001b[39;00m\u001b[38;5;21;01msvm\u001b[39;00m \u001b[38;5;28;01mimport\u001b[39;00m SVC\n\u001b[1;32m----> 2\u001b[0m \u001b[43mmodel\u001b[49m\u001b[38;5;241m.\u001b[39mfit(X_train, y_train)\u001b[38;5;241m.\u001b[39mscore(X_train, y_train)\n",
      "\u001b[1;31mNameError\u001b[0m: name 'model' is not defined"
     ]
    }
   ],
   "source": [
    "from sklearn.svm import SVC\n",
    "model.fit(X_train, y_train).score(X_train, y_train)"
   ]
  },
  {
   "cell_type": "code",
   "execution_count": 3,
   "id": "b319ef13",
   "metadata": {},
   "outputs": [
    {
     "name": "stdout",
     "output_type": "stream",
     "text": [
      "Optimal regularization parameter : 0.00026529484644318975\n"
     ]
    }
   ],
   "source": [
    "alphas = np.logspace(-5, 1, 60)\n",
    "enet = linear_model.ElasticNet(l1_ratio=0.7, max_iter=10000)\n",
    "train_errors = list()\n",
    "test_errors = list()\n",
    "for alpha in alphas:\n",
    "    enet.set_params(alpha=alpha)\n",
    "    enet.fit(X_train, y_train)\n",
    "    train_errors.append(enet.score(X_train, y_train))\n",
    "    test_errors.append(enet.score(X_test, y_test))\n",
    "\n",
    "i_alpha_optim = np.argmax(test_errors)\n",
    "alpha_optim = alphas[i_alpha_optim]\n",
    "print(\"Optimal regularization parameter : %s\" % alpha_optim)\n",
    "\n",
    "# Estimate the coef_ on full data with optimal regularization parameter\n",
    "enet.set_params(alpha=alpha_optim)\n",
    "coef_ = enet.fit(X, y).coef_"
   ]
  },
  {
   "cell_type": "code",
   "execution_count": 5,
   "id": "7bcd9f0e",
   "metadata": {},
   "outputs": [],
   "source": [
    "\n",
    "n_samples_train, n_samples_test, n_features = 75, 150, 500\n",
    "X, y, coef = make_regression(\n",
    "    n_samples=n_samples_train + n_samples_test,\n",
    "    n_features=n_features,\n",
    "    n_informative=50,\n",
    "    shuffle=False,\n",
    "    noise=1.0,\n",
    "    coef=True,\n",
    ")\n",
    "X_train, X_test, y_train, y_test = train_test_split(\n",
    "    X, y, train_size=n_samples_train, test_size=n_samples_test, shuffle=False\n",
    ")"
   ]
  },
  {
   "cell_type": "code",
   "execution_count": 11,
   "id": "a5c91edd",
   "metadata": {},
   "outputs": [
    {
     "data": {
      "image/png": "[encoded data removed]",
      "text/plain": [
       "<Figure size 432x288 with 2 Axes>"
      ]
     },
     "metadata": {
      "needs_background": "light"
     },
     "output_type": "display_data"
    }
   ],
   "source": [
    "plt.subplot(2, 1, 1)\n",
    "plt.semilogx(alphas, train_errors, label=\"Train\")\n",
    "plt.semilogx(alphas, test_errors, label=\"Test\")\n",
    "plt.vlines(\n",
    "    alpha_optim,\n",
    "    plt.ylim()[0],\n",
    "    np.max(test_errors),\n",
    "    color=\"k\",\n",
    "    linewidth=3,\n",
    "    label=\"Optimum on test\",\n",
    ")\n",
    "plt.legend(loc=\"lower left\")\n",
    "plt.ylim([0, 1.2])\n",
    "plt.xlabel(\"Regularization parameter\")\n",
    "plt.ylabel(\"Performance\")\n",
    "\n",
    "# Show estimated coef_ vs true coef\n",
    "plt.subplot(2, 1, 2)\n",
    "plt.plot(coef, label=\"True coef\")\n",
    "plt.plot(coef_, label=\"Estimated coef\")\n",
    "plt.legend()\n",
    "plt.subplots_adjust(0.09, 0.04, 0.94, 0.94, 0.26, 0.26)\n",
    "plt.show()\n"
   ]
  },
  {
   "cell_type": "code",
   "execution_count": null,
   "id": "24eea6de",
   "metadata": {},
   "outputs": [],
   "source": []
  },
  {
   "cell_type": "code",
   "execution_count": null,
   "id": "1fb5986a",
   "metadata": {},
   "outputs": [],
   "source": []
  }
 ],
 "metadata": {
  "kernelspec": {
   "display_name": "Python 3 (ipykernel)",
   "language": "python",
   "name": "python3"
  },
  "language_info": {
   "codemirror_mode": {
    "name": "ipython",
    "version": 3
   },
   "file_extension": ".py",
   "mimetype": "text/x-python",
   "name": "python",
   "nbconvert_exporter": "python",
   "pygments_lexer": "ipython3",
   "version": "3.9.12"
  }
 },
 "nbformat": 4,
 "nbformat_minor": 5
}
